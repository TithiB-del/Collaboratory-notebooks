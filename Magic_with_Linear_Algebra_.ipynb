{
  "nbformat": 4,
  "nbformat_minor": 0,
  "metadata": {
    "colab": {
      "provenance": [],
      "toc_visible": true,
      "include_colab_link": true
    },
    "kernelspec": {
      "name": "python3",
      "display_name": "Python 3"
    }
  },
  "cells": [
    {
      "cell_type": "markdown",
      "metadata": {
        "id": "view-in-github",
        "colab_type": "text"
      },
      "source": [
        "<a href=\"https://colab.research.google.com/github/TithiB-del/Collaboratory-notebooks/blob/main/Magic_with_Linear_Algebra_.ipynb\" target=\"_parent\"><img src=\"https://colab.research.google.com/assets/colab-badge.svg\" alt=\"Open In Colab\"/></a>"
      ]
    },
    {
      "cell_type": "code",
      "metadata": {
        "id": "XynR76u91drE"
      },
      "source": [
        "import numpy as np"
      ],
      "execution_count": null,
      "outputs": []
    },
    {
      "cell_type": "markdown",
      "metadata": {
        "id": "SccAhRHd1tym"
      },
      "source": [
        "# Scalar"
      ]
    },
    {
      "cell_type": "code",
      "metadata": {
        "id": "RNE0cD4X1mXV"
      },
      "source": [
        "a = 5\n",
        "c = -3\n",
        "d = 121323522331"
      ],
      "execution_count": null,
      "outputs": []
    },
    {
      "cell_type": "code",
      "metadata": {
        "id": "1xZPtDN313Eb"
      },
      "source": [
        "d"
      ],
      "execution_count": null,
      "outputs": []
    },
    {
      "cell_type": "markdown",
      "metadata": {
        "id": "bnsSTx1416T-"
      },
      "source": [
        "# Vector"
      ]
    },
    {
      "cell_type": "code",
      "metadata": {
        "id": "LlDQyt1714Fc"
      },
      "source": [
        "ar = [1,2,3,4]"
      ],
      "execution_count": null,
      "outputs": []
    },
    {
      "cell_type": "code",
      "metadata": {
        "id": "OGbknIIO-R0t"
      },
      "source": [
        "nArr = np.array([5,6,7,8])"
      ],
      "execution_count": null,
      "outputs": []
    },
    {
      "cell_type": "code",
      "metadata": {
        "id": "UNXQ3L6S-fw0"
      },
      "source": [
        "nArr"
      ],
      "execution_count": null,
      "outputs": []
    },
    {
      "cell_type": "markdown",
      "metadata": {
        "id": "Au2X-_Qh-rfk"
      },
      "source": [
        "# Matrices"
      ]
    },
    {
      "cell_type": "code",
      "metadata": {
        "id": "IbgUctkC-hT5"
      },
      "source": [
        "mat1 = [[1,2,3],\n",
        "        [4,5,6],\n",
        "        [7,8,9]]"
      ],
      "execution_count": null,
      "outputs": []
    },
    {
      "cell_type": "code",
      "metadata": {
        "id": "ETM2yBsv-1dL"
      },
      "source": [
        "mat2 = np.array([[1,2,3],\n",
        "        [4,5,6],\n",
        "        [7,8,9]])"
      ],
      "execution_count": null,
      "outputs": []
    },
    {
      "cell_type": "code",
      "metadata": {
        "id": "c_04M91D-2mA"
      },
      "source": [
        "print(\"mat1 :\")\n",
        "print(mat1)\n",
        "print(\"mat2 :\")\n",
        "print(mat2)"
      ],
      "execution_count": null,
      "outputs": []
    },
    {
      "cell_type": "markdown",
      "metadata": {
        "id": "m6LEFDGc_-v5"
      },
      "source": [
        "## Addition"
      ]
    },
    {
      "cell_type": "code",
      "metadata": {
        "id": "Osx68XlP_C9q"
      },
      "source": [
        "mat1 = [[1,2,3],[4,5,6],[7,8,9]]\n",
        "mat2 = [[4,5,6],[7,8,9],[10,11,12]]"
      ],
      "execution_count": null,
      "outputs": []
    },
    {
      "cell_type": "markdown",
      "metadata": {
        "id": "UJcov0m0GQ63"
      },
      "source": [
        "adding two matrices with simple python code"
      ]
    },
    {
      "cell_type": "code",
      "metadata": {
        "id": "mUopl8Zi_eYT"
      },
      "source": [
        "mat3 = [[0 for x in range(len(mat1))] for y in range(len(mat1[0]))]\n",
        "for i in range(len(mat1)):\n",
        "  for j in range(len(mat1[0])):\n",
        "      mat3[i][j] = mat1[i][j] + mat2[i][j]"
      ],
      "execution_count": null,
      "outputs": []
    },
    {
      "cell_type": "code",
      "metadata": {
        "id": "aa0z0hjlB7vk"
      },
      "source": [
        "mat3"
      ],
      "execution_count": null,
      "outputs": []
    },
    {
      "cell_type": "markdown",
      "metadata": {
        "id": "GIO4VIZ0GsEL"
      },
      "source": [
        "Numpy magic:"
      ]
    },
    {
      "cell_type": "code",
      "metadata": {
        "id": "zygv3hr8ASuN"
      },
      "source": [
        "mat4 = np.add(mat1,mat2)"
      ],
      "execution_count": null,
      "outputs": []
    },
    {
      "cell_type": "code",
      "metadata": {
        "id": "rhjtwMgRDJNH"
      },
      "source": [
        "mat4"
      ],
      "execution_count": null,
      "outputs": []
    },
    {
      "cell_type": "markdown",
      "metadata": {
        "id": "0uXdaVVSGxMQ"
      },
      "source": [
        "## Multiplication"
      ]
    },
    {
      "cell_type": "code",
      "metadata": {
        "id": "F8xJ8f6BDKWG"
      },
      "source": [
        "mat1 = [[1,2,3],[4,5,6],[7,8,9]]\n",
        "mat2 = [[4,5,6],[7,8,9],[10,11,12]]"
      ],
      "execution_count": null,
      "outputs": []
    },
    {
      "cell_type": "markdown",
      "metadata": {
        "id": "LUoJ-TPMKjrY"
      },
      "source": [
        "Multiplying two matrices with simple python code"
      ]
    },
    {
      "cell_type": "code",
      "metadata": {
        "id": "e2Z6T_iQI8II"
      },
      "source": [
        "mat3 = [[0 for x in range(len(mat1))] for y in range(len(mat2[0]))]\n",
        "for i in range(len(mat1)):\n",
        "  for j in range(len(mat2[0])):\n",
        "      for k in range(len(mat1[0])):\n",
        "        mat3[i][j] += mat1[i][k] * mat2[k][j]"
      ],
      "execution_count": null,
      "outputs": []
    },
    {
      "cell_type": "code",
      "metadata": {
        "id": "8_IyaimaJ7FT"
      },
      "source": [
        "mat3"
      ],
      "execution_count": null,
      "outputs": []
    },
    {
      "cell_type": "markdown",
      "metadata": {
        "id": "AacshjCgKukx"
      },
      "source": [
        "Numpy magic:"
      ]
    },
    {
      "cell_type": "code",
      "metadata": {
        "id": "ysXLVCSxJ785"
      },
      "source": [
        "mat4 = np.matmul(mat1,mat2)"
      ],
      "execution_count": null,
      "outputs": []
    },
    {
      "cell_type": "code",
      "metadata": {
        "id": "YtSM2rLUKGdS"
      },
      "source": [
        "mat4"
      ],
      "execution_count": null,
      "outputs": []
    },
    {
      "cell_type": "markdown",
      "metadata": {
        "id": "ptrgiNfNhzTK"
      },
      "source": [
        "# Working with Images"
      ]
    },
    {
      "cell_type": "markdown",
      "metadata": {
        "id": "nXjAAn0BBFSl"
      },
      "source": [
        "## Applying Filter"
      ]
    },
    {
      "cell_type": "code",
      "metadata": {
        "id": "wJw7C3MaBJkr"
      },
      "source": [
        "import scipy.signal\n",
        "import matplotlib.pyplot as plt\n",
        "from skimage import io, color\n",
        "from skimage import exposure"
      ],
      "execution_count": null,
      "outputs": []
    },
    {
      "cell_type": "code",
      "metadata": {
        "id": "9DEokbFSSSnZ"
      },
      "source": [
        "img = io.imread('http://machinelearninguru.com/_images/topics/computer_vision/basics/convolution/image.jpg')    # Load the image\n",
        "img = color.rgb2gray(img)       # Convert the image to grayscale (1 channel)\n",
        "kernel = np.array([[0,-1,0],[-1,5,-1],[0,-1,0]])\n",
        "# we use 'valid' which means we do not add zero padding to our image\n",
        "plt.imshow(img,cmap=plt.cm.gray)"
      ],
      "execution_count": null,
      "outputs": []
    },
    {
      "cell_type": "code",
      "metadata": {
        "id": "zTuE1cp5Sf50"
      },
      "source": [
        "edges = scipy.signal.convolve2d(img, kernel, 'valid')\n",
        "# print('\\n First 5 columns and rows of the image_sharpen matrix: \\n', image_sharpen[:5,:5]*255)\n",
        "# Adjust the contrast of the filtered image by applying Histogram Equalization\n",
        "edges_equalized = exposure.equalize_adapthist(edges/np.max(np.abs(edges)), clip_limit=0.03)\n",
        "plt.imshow(edges_equalized, cmap=plt.cm.gray)    # plot the edges_clipped\n",
        "plt.axis('off')"
      ],
      "execution_count": null,
      "outputs": []
    },
    {
      "cell_type": "markdown",
      "metadata": {
        "id": "XAmfd5TGSqdh"
      },
      "source": [
        "# Linear regression using Linear algebra"
      ]
    },
    {
      "cell_type": "code",
      "metadata": {
        "id": "IZxgvbckS8hM"
      },
      "source": [
        "from numpy import array\n",
        "from numpy.linalg import inv\n",
        "from numpy.linalg import qr\n",
        "from numpy.linalg import pinv\n",
        "from matplotlib import pyplot"
      ],
      "execution_count": null,
      "outputs": []
    },
    {
      "cell_type": "markdown",
      "metadata": {
        "id": "08LTkHf-S2yW"
      },
      "source": [
        "## Solve directly"
      ]
    },
    {
      "cell_type": "code",
      "metadata": {
        "id": "cr7_29fnKHHn"
      },
      "source": [
        "data = array([\n",
        "[0.05, 0.12],\n",
        "[0.18, 0.22],\n",
        "[0.31, 0.35],\n",
        "[0.42, 0.38],\n",
        "[0.5, 0.49],\n",
        "])\n",
        "X, y = data[:,0], data[:,1]\n",
        "X = X.reshape((len(X), 1))\n",
        "# linear least squares\n",
        "b = inv(X.T.dot(X)).dot(X.T).dot(y)\n",
        "print(b)\n",
        "# predict using coefficients\n",
        "yhat = X.dot(b)\n",
        "# plot data and predictions\n",
        "pyplot.scatter(X, y)\n",
        "pyplot.plot(X, yhat, color='red')\n",
        "pyplot.show()"
      ],
      "execution_count": null,
      "outputs": []
    },
    {
      "cell_type": "markdown",
      "metadata": {
        "id": "3ye7ycBQTLvZ"
      },
      "source": [
        "## Solve by QR Decomposition"
      ]
    },
    {
      "cell_type": "code",
      "metadata": {
        "id": "CGxw_9JOxVv-"
      },
      "source": [
        "data = array([\n",
        "[0.05, 0.12],\n",
        "[0.18, 0.22],\n",
        "[0.31, 0.35],\n",
        "[0.42, 0.38],\n",
        "[0.5, 0.49],\n",
        "])\n",
        "X, y = data[:,0], data[:,1]\n",
        "X = X.reshape((len(X), 1))\n",
        "# QR decomposition\n",
        "Q, R = qr(X)\n",
        "b = inv(R).dot(Q.T).dot(y)\n",
        "print(b)\n",
        "# predict using coefficients\n",
        "yhat = X.dot(b)\n",
        "# plot data and predictions\n",
        "pyplot.scatter(X, y)\n",
        "pyplot.plot(X, yhat, color='red')\n",
        "pyplot.show()"
      ],
      "execution_count": null,
      "outputs": []
    },
    {
      "cell_type": "code",
      "metadata": {
        "id": "oP9cjclnA2YA"
      },
      "source": [],
      "execution_count": null,
      "outputs": []
    }
  ]
}