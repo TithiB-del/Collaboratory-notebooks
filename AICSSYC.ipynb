{
  "nbformat": 4,
  "nbformat_minor": 0,
  "metadata": {
    "colab": {
      "provenance": [],
      "toc_visible": true,
      "include_colab_link": true
    },
    "kernelspec": {
      "name": "python3",
      "display_name": "Python 3"
    },
    "language_info": {
      "name": "python"
    }
  },
  "cells": [
    {
      "cell_type": "markdown",
      "metadata": {
        "id": "view-in-github",
        "colab_type": "text"
      },
      "source": [
        "<a href=\"https://colab.research.google.com/github/TithiB-del/Collaboratory-notebooks/blob/main/AICSSYC.ipynb\" target=\"_parent\"><img src=\"https://colab.research.google.com/assets/colab-badge.svg\" alt=\"Open In Colab\"/></a>"
      ]
    },
    {
      "cell_type": "code",
      "execution_count": null,
      "metadata": {
        "id": "hiw9pwz7QLTv"
      },
      "outputs": [],
      "source": [
        "import pandas as pd\n",
        "import numpy as np\n",
        "import seaborn as sns"
      ]
    },
    {
      "cell_type": "code",
      "source": [
        "!pip install sentence-transformers"
      ],
      "metadata": {
        "colab": {
          "base_uri": "https://localhost:8080/"
        },
        "id": "efNr7_pzRRnH",
        "outputId": "7682ab7f-a3d8-435d-f897-ca98a08665ab"
      },
      "execution_count": null,
      "outputs": [
        {
          "output_type": "stream",
          "name": "stdout",
          "text": [
            "Looking in indexes: https://pypi.org/simple, https://us-python.pkg.dev/colab-wheels/public/simple/\n",
            "Requirement already satisfied: sentence-transformers in /usr/local/lib/python3.8/dist-packages (2.2.2)\n",
            "Requirement already satisfied: scipy in /usr/local/lib/python3.8/dist-packages (from sentence-transformers) (1.7.3)\n",
            "Requirement already satisfied: numpy in /usr/local/lib/python3.8/dist-packages (from sentence-transformers) (1.21.6)\n",
            "Requirement already satisfied: scikit-learn in /usr/local/lib/python3.8/dist-packages (from sentence-transformers) (1.0.2)\n",
            "Requirement already satisfied: sentencepiece in /usr/local/lib/python3.8/dist-packages (from sentence-transformers) (0.1.97)\n",
            "Requirement already satisfied: transformers<5.0.0,>=4.6.0 in /usr/local/lib/python3.8/dist-packages (from sentence-transformers) (4.25.1)\n",
            "Requirement already satisfied: nltk in /usr/local/lib/python3.8/dist-packages (from sentence-transformers) (3.7)\n",
            "Requirement already satisfied: huggingface-hub>=0.4.0 in /usr/local/lib/python3.8/dist-packages (from sentence-transformers) (0.11.1)\n",
            "Requirement already satisfied: torchvision in /usr/local/lib/python3.8/dist-packages (from sentence-transformers) (0.14.0+cu116)\n",
            "Requirement already satisfied: torch>=1.6.0 in /usr/local/lib/python3.8/dist-packages (from sentence-transformers) (1.13.0+cu116)\n",
            "Requirement already satisfied: tqdm in /usr/local/lib/python3.8/dist-packages (from sentence-transformers) (4.64.1)\n",
            "Requirement already satisfied: packaging>=20.9 in /usr/local/lib/python3.8/dist-packages (from huggingface-hub>=0.4.0->sentence-transformers) (21.3)\n",
            "Requirement already satisfied: pyyaml>=5.1 in /usr/local/lib/python3.8/dist-packages (from huggingface-hub>=0.4.0->sentence-transformers) (6.0)\n",
            "Requirement already satisfied: requests in /usr/local/lib/python3.8/dist-packages (from huggingface-hub>=0.4.0->sentence-transformers) (2.23.0)\n",
            "Requirement already satisfied: filelock in /usr/local/lib/python3.8/dist-packages (from huggingface-hub>=0.4.0->sentence-transformers) (3.8.2)\n",
            "Requirement already satisfied: typing-extensions>=3.7.4.3 in /usr/local/lib/python3.8/dist-packages (from huggingface-hub>=0.4.0->sentence-transformers) (4.4.0)\n",
            "Requirement already satisfied: pyparsing!=3.0.5,>=2.0.2 in /usr/local/lib/python3.8/dist-packages (from packaging>=20.9->huggingface-hub>=0.4.0->sentence-transformers) (3.0.9)\n",
            "Requirement already satisfied: regex!=2019.12.17 in /usr/local/lib/python3.8/dist-packages (from transformers<5.0.0,>=4.6.0->sentence-transformers) (2022.6.2)\n",
            "Requirement already satisfied: tokenizers!=0.11.3,<0.14,>=0.11.1 in /usr/local/lib/python3.8/dist-packages (from transformers<5.0.0,>=4.6.0->sentence-transformers) (0.13.2)\n",
            "Requirement already satisfied: joblib in /usr/local/lib/python3.8/dist-packages (from nltk->sentence-transformers) (1.2.0)\n",
            "Requirement already satisfied: click in /usr/local/lib/python3.8/dist-packages (from nltk->sentence-transformers) (7.1.2)\n",
            "Requirement already satisfied: idna<3,>=2.5 in /usr/local/lib/python3.8/dist-packages (from requests->huggingface-hub>=0.4.0->sentence-transformers) (2.10)\n",
            "Requirement already satisfied: chardet<4,>=3.0.2 in /usr/local/lib/python3.8/dist-packages (from requests->huggingface-hub>=0.4.0->sentence-transformers) (3.0.4)\n",
            "Requirement already satisfied: certifi>=2017.4.17 in /usr/local/lib/python3.8/dist-packages (from requests->huggingface-hub>=0.4.0->sentence-transformers) (2022.12.7)\n",
            "Requirement already satisfied: urllib3!=1.25.0,!=1.25.1,<1.26,>=1.21.1 in /usr/local/lib/python3.8/dist-packages (from requests->huggingface-hub>=0.4.0->sentence-transformers) (1.24.3)\n",
            "Requirement already satisfied: threadpoolctl>=2.0.0 in /usr/local/lib/python3.8/dist-packages (from scikit-learn->sentence-transformers) (3.1.0)\n",
            "Requirement already satisfied: pillow!=8.3.*,>=5.3.0 in /usr/local/lib/python3.8/dist-packages (from torchvision->sentence-transformers) (7.1.2)\n"
          ]
        }
      ]
    },
    {
      "cell_type": "code",
      "source": [
        "import torch\n",
        "from sentence_transformers import SentenceTransformer"
      ],
      "metadata": {
        "id": "JF6D54n1QWOt"
      },
      "execution_count": null,
      "outputs": []
    },
    {
      "cell_type": "code",
      "source": [
        "!wget https://raw.githubusercontent.com/ieee-ju/storage/main/report_0.csv"
      ],
      "metadata": {
        "colab": {
          "base_uri": "https://localhost:8080/"
        },
        "id": "a3xazhUDRPqk",
        "outputId": "6b48d48f-0eed-471f-f358-21d4b837cf44"
      },
      "execution_count": null,
      "outputs": [
        {
          "output_type": "stream",
          "name": "stdout",
          "text": [
            "--2022-12-18 06:21:38--  https://raw.githubusercontent.com/ieee-ju/storage/main/report_0.csv\n",
            "Resolving raw.githubusercontent.com (raw.githubusercontent.com)... 185.199.108.133, 185.199.109.133, 185.199.110.133, ...\n",
            "Connecting to raw.githubusercontent.com (raw.githubusercontent.com)|185.199.108.133|:443... connected.\n",
            "HTTP request sent, awaiting response... 200 OK\n",
            "Length: 50419 (49K) [text/plain]\n",
            "Saving to: ‘report_0.csv’\n",
            "\n",
            "report_0.csv        100%[===================>]  49.24K  --.-KB/s    in 0.01s   \n",
            "\n",
            "2022-12-18 06:21:38 (4.73 MB/s) - ‘report_0.csv’ saved [50419/50419]\n",
            "\n"
          ]
        }
      ]
    },
    {
      "cell_type": "code",
      "source": [
        "data = pd.read_csv('report_0.csv')"
      ],
      "metadata": {
        "id": "Hbe3wkE8UnNR"
      },
      "execution_count": null,
      "outputs": []
    },
    {
      "cell_type": "code",
      "source": [
        "data.head()"
      ],
      "metadata": {
        "colab": {
          "base_uri": "https://localhost:8080/",
          "height": 206
        },
        "id": "_c_MHdHXm6VO",
        "outputId": "49d21aa9-92fe-4a08-eb17-f02863361375"
      },
      "execution_count": null,
      "outputs": [
        {
          "output_type": "execute_result",
          "data": {
            "text/plain": [
              "               id Vulnerability Title date_reported severity  \\\n",
              "0  CVE-2018-12364         Bypass CSRF    2018-10-18   Medium   \n",
              "1  CVE-2018-11406                CSRF    2018-06-13   Medium   \n",
              "2   CVE-2018-8764                CSRF    2018-03-27   Medium   \n",
              "3  CVE-2017-16653                CSRF    2018-08-06   Medium   \n",
              "4   CVE-2017-0362                CSRF    2018-04-13   Medium   \n",
              "\n",
              "                                         description  code  \\\n",
              "0  NPAPI plugins, such as Adobe Flash, can send n...    55   \n",
              "1  An issue was discovered in the Security compon...    56   \n",
              "2  Roland Gruber Softwareentwicklung LDAP Account...    56   \n",
              "3  An issue was discovered in Symfony before 2.7....    56   \n",
              "4  Mediawiki before 1.28.1 / 1.27.2 / 1.23.16 con...    56   \n",
              "\n",
              "                                  file location  \n",
              "0  sample_project/api/folder4/file4.cpp, line13  \n",
              "1    sample_project/api/folder2/file0.c, line46  \n",
              "2    sample_project/api/folder2/file0.c, line46  \n",
              "3    sample_project/api/folder2/file0.c, line46  \n",
              "4  sample_project/api/folder4/file4.cpp, line13  "
            ],
            "text/html": [
              "\n",
              "  <div id=\"df-f68613f2-8e5b-439f-875c-8e7c69d8a676\">\n",
              "    <div class=\"colab-df-container\">\n",
              "      <div>\n",
              "<style scoped>\n",
              "    .dataframe tbody tr th:only-of-type {\n",
              "        vertical-align: middle;\n",
              "    }\n",
              "\n",
              "    .dataframe tbody tr th {\n",
              "        vertical-align: top;\n",
              "    }\n",
              "\n",
              "    .dataframe thead th {\n",
              "        text-align: right;\n",
              "    }\n",
              "</style>\n",
              "<table border=\"1\" class=\"dataframe\">\n",
              "  <thead>\n",
              "    <tr style=\"text-align: right;\">\n",
              "      <th></th>\n",
              "      <th>id</th>\n",
              "      <th>Vulnerability Title</th>\n",
              "      <th>date_reported</th>\n",
              "      <th>severity</th>\n",
              "      <th>description</th>\n",
              "      <th>code</th>\n",
              "      <th>file location</th>\n",
              "    </tr>\n",
              "  </thead>\n",
              "  <tbody>\n",
              "    <tr>\n",
              "      <th>0</th>\n",
              "      <td>CVE-2018-12364</td>\n",
              "      <td>Bypass CSRF</td>\n",
              "      <td>2018-10-18</td>\n",
              "      <td>Medium</td>\n",
              "      <td>NPAPI plugins, such as Adobe Flash, can send n...</td>\n",
              "      <td>55</td>\n",
              "      <td>sample_project/api/folder4/file4.cpp, line13</td>\n",
              "    </tr>\n",
              "    <tr>\n",
              "      <th>1</th>\n",
              "      <td>CVE-2018-11406</td>\n",
              "      <td>CSRF</td>\n",
              "      <td>2018-06-13</td>\n",
              "      <td>Medium</td>\n",
              "      <td>An issue was discovered in the Security compon...</td>\n",
              "      <td>56</td>\n",
              "      <td>sample_project/api/folder2/file0.c, line46</td>\n",
              "    </tr>\n",
              "    <tr>\n",
              "      <th>2</th>\n",
              "      <td>CVE-2018-8764</td>\n",
              "      <td>CSRF</td>\n",
              "      <td>2018-03-27</td>\n",
              "      <td>Medium</td>\n",
              "      <td>Roland Gruber Softwareentwicklung LDAP Account...</td>\n",
              "      <td>56</td>\n",
              "      <td>sample_project/api/folder2/file0.c, line46</td>\n",
              "    </tr>\n",
              "    <tr>\n",
              "      <th>3</th>\n",
              "      <td>CVE-2017-16653</td>\n",
              "      <td>CSRF</td>\n",
              "      <td>2018-08-06</td>\n",
              "      <td>Medium</td>\n",
              "      <td>An issue was discovered in Symfony before 2.7....</td>\n",
              "      <td>56</td>\n",
              "      <td>sample_project/api/folder2/file0.c, line46</td>\n",
              "    </tr>\n",
              "    <tr>\n",
              "      <th>4</th>\n",
              "      <td>CVE-2017-0362</td>\n",
              "      <td>CSRF</td>\n",
              "      <td>2018-04-13</td>\n",
              "      <td>Medium</td>\n",
              "      <td>Mediawiki before 1.28.1 / 1.27.2 / 1.23.16 con...</td>\n",
              "      <td>56</td>\n",
              "      <td>sample_project/api/folder4/file4.cpp, line13</td>\n",
              "    </tr>\n",
              "  </tbody>\n",
              "</table>\n",
              "</div>\n",
              "      <button class=\"colab-df-convert\" onclick=\"convertToInteractive('df-f68613f2-8e5b-439f-875c-8e7c69d8a676')\"\n",
              "              title=\"Convert this dataframe to an interactive table.\"\n",
              "              style=\"display:none;\">\n",
              "        \n",
              "  <svg xmlns=\"http://www.w3.org/2000/svg\" height=\"24px\"viewBox=\"0 0 24 24\"\n",
              "       width=\"24px\">\n",
              "    <path d=\"M0 0h24v24H0V0z\" fill=\"none\"/>\n",
              "    <path d=\"M18.56 5.44l.94 2.06.94-2.06 2.06-.94-2.06-.94-.94-2.06-.94 2.06-2.06.94zm-11 1L8.5 8.5l.94-2.06 2.06-.94-2.06-.94L8.5 2.5l-.94 2.06-2.06.94zm10 10l.94 2.06.94-2.06 2.06-.94-2.06-.94-.94-2.06-.94 2.06-2.06.94z\"/><path d=\"M17.41 7.96l-1.37-1.37c-.4-.4-.92-.59-1.43-.59-.52 0-1.04.2-1.43.59L10.3 9.45l-7.72 7.72c-.78.78-.78 2.05 0 2.83L4 21.41c.39.39.9.59 1.41.59.51 0 1.02-.2 1.41-.59l7.78-7.78 2.81-2.81c.8-.78.8-2.07 0-2.86zM5.41 20L4 18.59l7.72-7.72 1.47 1.35L5.41 20z\"/>\n",
              "  </svg>\n",
              "      </button>\n",
              "      \n",
              "  <style>\n",
              "    .colab-df-container {\n",
              "      display:flex;\n",
              "      flex-wrap:wrap;\n",
              "      gap: 12px;\n",
              "    }\n",
              "\n",
              "    .colab-df-convert {\n",
              "      background-color: #E8F0FE;\n",
              "      border: none;\n",
              "      border-radius: 50%;\n",
              "      cursor: pointer;\n",
              "      display: none;\n",
              "      fill: #1967D2;\n",
              "      height: 32px;\n",
              "      padding: 0 0 0 0;\n",
              "      width: 32px;\n",
              "    }\n",
              "\n",
              "    .colab-df-convert:hover {\n",
              "      background-color: #E2EBFA;\n",
              "      box-shadow: 0px 1px 2px rgba(60, 64, 67, 0.3), 0px 1px 3px 1px rgba(60, 64, 67, 0.15);\n",
              "      fill: #174EA6;\n",
              "    }\n",
              "\n",
              "    [theme=dark] .colab-df-convert {\n",
              "      background-color: #3B4455;\n",
              "      fill: #D2E3FC;\n",
              "    }\n",
              "\n",
              "    [theme=dark] .colab-df-convert:hover {\n",
              "      background-color: #434B5C;\n",
              "      box-shadow: 0px 1px 3px 1px rgba(0, 0, 0, 0.15);\n",
              "      filter: drop-shadow(0px 1px 2px rgba(0, 0, 0, 0.3));\n",
              "      fill: #FFFFFF;\n",
              "    }\n",
              "  </style>\n",
              "\n",
              "      <script>\n",
              "        const buttonEl =\n",
              "          document.querySelector('#df-f68613f2-8e5b-439f-875c-8e7c69d8a676 button.colab-df-convert');\n",
              "        buttonEl.style.display =\n",
              "          google.colab.kernel.accessAllowed ? 'block' : 'none';\n",
              "\n",
              "        async function convertToInteractive(key) {\n",
              "          const element = document.querySelector('#df-f68613f2-8e5b-439f-875c-8e7c69d8a676');\n",
              "          const dataTable =\n",
              "            await google.colab.kernel.invokeFunction('convertToInteractive',\n",
              "                                                     [key], {});\n",
              "          if (!dataTable) return;\n",
              "\n",
              "          const docLinkHtml = 'Like what you see? Visit the ' +\n",
              "            '<a target=\"_blank\" href=https://colab.research.google.com/notebooks/data_table.ipynb>data table notebook</a>'\n",
              "            + ' to learn more about interactive tables.';\n",
              "          element.innerHTML = '';\n",
              "          dataTable['output_type'] = 'display_data';\n",
              "          await google.colab.output.renderOutput(dataTable, element);\n",
              "          const docLink = document.createElement('div');\n",
              "          docLink.innerHTML = docLinkHtml;\n",
              "          element.appendChild(docLink);\n",
              "        }\n",
              "      </script>\n",
              "    </div>\n",
              "  </div>\n",
              "  "
            ]
          },
          "metadata": {},
          "execution_count": 73
        }
      ]
    },
    {
      "cell_type": "code",
      "source": [
        "text = data['description']"
      ],
      "metadata": {
        "id": "zAcWlXrcm79m"
      },
      "execution_count": null,
      "outputs": []
    },
    {
      "cell_type": "code",
      "source": [
        "%%time\n",
        "model = SentenceTransformer('all-mpnet-base-v2')\n",
        "embeddings = model.encode(text)"
      ],
      "metadata": {
        "colab": {
          "base_uri": "https://localhost:8080/"
        },
        "id": "wqKkZRvgnNNM",
        "outputId": "0a0931d7-7acb-4a05-a592-50791b378204"
      },
      "execution_count": null,
      "outputs": [
        {
          "output_type": "stream",
          "name": "stdout",
          "text": [
            "CPU times: user 1min 4s, sys: 1.96 s, total: 1min 5s\n",
            "Wall time: 1min 6s\n"
          ]
        }
      ]
    },
    {
      "cell_type": "code",
      "source": [
        "def cosine_similarity_calc(vec_1,vec_2):\n",
        "    sim = np.dot(vec_1,vec_2)/(np.linalg.norm(vec_1)*np.linalg.norm(vec_2))\n",
        "    return sim"
      ],
      "metadata": {
        "id": "3htlayT_oCS8"
      },
      "execution_count": null,
      "outputs": []
    },
    {
      "cell_type": "code",
      "source": [
        "cosine_similarity_calc(embeddings[32],embeddings[31])"
      ],
      "metadata": {
        "id": "CYgTMa-dt3r5"
      },
      "execution_count": null,
      "outputs": []
    },
    {
      "cell_type": "code",
      "source": [
        "from sklearn.cluster import KMeans "
      ],
      "metadata": {
        "id": "IVxD7faVt-5D"
      },
      "execution_count": null,
      "outputs": []
    },
    {
      "cell_type": "code",
      "source": [
        "kmeans = KMeans(n_clusters = 19, init = 'k-means++', random_state = 42)\n",
        "kmeans.fit(embeddings) "
      ],
      "metadata": {
        "colab": {
          "base_uri": "https://localhost:8080/"
        },
        "id": "LviqV4GAvLFc",
        "outputId": "0a0f3eaf-6a8e-4eeb-b03f-4a98a2d1df15"
      },
      "execution_count": null,
      "outputs": [
        {
          "output_type": "execute_result",
          "data": {
            "text/plain": [
              "KMeans(n_clusters=19, random_state=42)"
            ]
          },
          "metadata": {},
          "execution_count": 93
        }
      ]
    },
    {
      "cell_type": "code",
      "source": [
        "y_kmeans = kmeans.fit_predict(embeddings)"
      ],
      "metadata": {
        "id": "lHccR3FevUKC"
      },
      "execution_count": null,
      "outputs": []
    },
    {
      "cell_type": "code",
      "source": [
        "data['group'] = y_kmeans"
      ],
      "metadata": {
        "id": "7FWnCWynvcuS"
      },
      "execution_count": null,
      "outputs": []
    },
    {
      "cell_type": "code",
      "source": [
        "data.loc[data['group']==3]"
      ],
      "metadata": {
        "colab": {
          "base_uri": "https://localhost:8080/",
          "height": 426
        },
        "id": "Z_tzIvYxviAL",
        "outputId": "9ba579ad-3bbc-44bc-d9a2-30dac464d758"
      },
      "execution_count": null,
      "outputs": [
        {
          "output_type": "execute_result",
          "data": {
            "text/plain": [
              "                   id            Vulnerability Title date_reported severity  \\\n",
              "17      CVE-2018-8781             Exec Code Overflow    2018-04-23     High   \n",
              "39      CVE-2018-5808             Exec Code Overflow    2018-12-07   Medium   \n",
              "43      CVE-2018-5345             Exec Code Overflow    2018-01-12   Medium   \n",
              "45      CVE-2018-3839                      Exec Code    2018-04-10   Medium   \n",
              "46      CVE-2018-3836                      Exec Code    2018-04-24     High   \n",
              "57   CVE-2018-1000222                      Exec Code    2018-08-20   Medium   \n",
              "78     CVE-2018-17407             Exec Code Overflow    2018-09-23   Medium   \n",
              "79     CVE-2018-17141                      Exec Code    2018-09-21     High   \n",
              "92     CVE-2018-14600                      Exec Code    2018-08-24     High   \n",
              "101    CVE-2018-11529                  DoS Exec Code    2018-07-11   Medium   \n",
              "106     CVE-2017-2924  Exec Code Overflow Mem. Corr.    2018-04-24   Medium   \n",
              "107     CVE-2017-2923  Exec Code Overflow Mem. Corr.    2018-04-24   Medium   \n",
              "\n",
              "                                           description  code  \\\n",
              "17   The udl_fb_mmap function in drivers/gpu/drm/ud...    75   \n",
              "39   An error within the \"find_green()\" function (i...    75   \n",
              "43   A stack-based buffer overflow within GNOME gca...    75   \n",
              "45   An exploitable code execution vulnerability ex...    68   \n",
              "46   An exploitable command injection vulnerability...    68   \n",
              "57   Libgd version 2.2.5 contains a Double Free Vul...    68   \n",
              "78   An issue was discovered in t1_check_unusual_ch...    75   \n",
              "79   HylaFAX 6.0.6 and HylaFAX+ 5.6.0 allow remote ...    68   \n",
              "92   An issue was discovered in libX11 through 1.6....    68   \n",
              "101  VideoLAN VLC media player 2.2.x is prone to a ...    63   \n",
              "106  An exploitable heap-based buffer overflow vuln...    76   \n",
              "107  An exploitable heap based buffer overflow vuln...    76   \n",
              "\n",
              "                                      file location  group  \n",
              "17      sample_project/src/folder1/file3.js, line95      3  \n",
              "39      sample_project/src/folder1/file3.js, line95      3  \n",
              "43      sample_project/src/folder1/file3.js, line95      3  \n",
              "45     sample_project/src/folder2/file2.cpp, line37      3  \n",
              "46   sample_project/drive/folder4/file1.cpp, line17      3  \n",
              "57       sample_project/api/folder2/file0.c, line46      3  \n",
              "78     sample_project/src/folder2/file2.cpp, line37      3  \n",
              "79      sample_project/src/folder1/file3.js, line95      3  \n",
              "92       sample_project/api/folder2/file0.c, line46      3  \n",
              "101      sample_project/api/folder2/file0.c, line46      3  \n",
              "106      sample_project/api/folder2/file0.c, line46      3  \n",
              "107    sample_project/api/folder4/file4.cpp, line13      3  "
            ],
            "text/html": [
              "\n",
              "  <div id=\"df-e6d3e547-d396-42e4-8b3f-75c9fb825781\">\n",
              "    <div class=\"colab-df-container\">\n",
              "      <div>\n",
              "<style scoped>\n",
              "    .dataframe tbody tr th:only-of-type {\n",
              "        vertical-align: middle;\n",
              "    }\n",
              "\n",
              "    .dataframe tbody tr th {\n",
              "        vertical-align: top;\n",
              "    }\n",
              "\n",
              "    .dataframe thead th {\n",
              "        text-align: right;\n",
              "    }\n",
              "</style>\n",
              "<table border=\"1\" class=\"dataframe\">\n",
              "  <thead>\n",
              "    <tr style=\"text-align: right;\">\n",
              "      <th></th>\n",
              "      <th>id</th>\n",
              "      <th>Vulnerability Title</th>\n",
              "      <th>date_reported</th>\n",
              "      <th>severity</th>\n",
              "      <th>description</th>\n",
              "      <th>code</th>\n",
              "      <th>file location</th>\n",
              "      <th>group</th>\n",
              "    </tr>\n",
              "  </thead>\n",
              "  <tbody>\n",
              "    <tr>\n",
              "      <th>17</th>\n",
              "      <td>CVE-2018-8781</td>\n",
              "      <td>Exec Code Overflow</td>\n",
              "      <td>2018-04-23</td>\n",
              "      <td>High</td>\n",
              "      <td>The udl_fb_mmap function in drivers/gpu/drm/ud...</td>\n",
              "      <td>75</td>\n",
              "      <td>sample_project/src/folder1/file3.js, line95</td>\n",
              "      <td>3</td>\n",
              "    </tr>\n",
              "    <tr>\n",
              "      <th>39</th>\n",
              "      <td>CVE-2018-5808</td>\n",
              "      <td>Exec Code Overflow</td>\n",
              "      <td>2018-12-07</td>\n",
              "      <td>Medium</td>\n",
              "      <td>An error within the \"find_green()\" function (i...</td>\n",
              "      <td>75</td>\n",
              "      <td>sample_project/src/folder1/file3.js, line95</td>\n",
              "      <td>3</td>\n",
              "    </tr>\n",
              "    <tr>\n",
              "      <th>43</th>\n",
              "      <td>CVE-2018-5345</td>\n",
              "      <td>Exec Code Overflow</td>\n",
              "      <td>2018-01-12</td>\n",
              "      <td>Medium</td>\n",
              "      <td>A stack-based buffer overflow within GNOME gca...</td>\n",
              "      <td>75</td>\n",
              "      <td>sample_project/src/folder1/file3.js, line95</td>\n",
              "      <td>3</td>\n",
              "    </tr>\n",
              "    <tr>\n",
              "      <th>45</th>\n",
              "      <td>CVE-2018-3839</td>\n",
              "      <td>Exec Code</td>\n",
              "      <td>2018-04-10</td>\n",
              "      <td>Medium</td>\n",
              "      <td>An exploitable code execution vulnerability ex...</td>\n",
              "      <td>68</td>\n",
              "      <td>sample_project/src/folder2/file2.cpp, line37</td>\n",
              "      <td>3</td>\n",
              "    </tr>\n",
              "    <tr>\n",
              "      <th>46</th>\n",
              "      <td>CVE-2018-3836</td>\n",
              "      <td>Exec Code</td>\n",
              "      <td>2018-04-24</td>\n",
              "      <td>High</td>\n",
              "      <td>An exploitable command injection vulnerability...</td>\n",
              "      <td>68</td>\n",
              "      <td>sample_project/drive/folder4/file1.cpp, line17</td>\n",
              "      <td>3</td>\n",
              "    </tr>\n",
              "    <tr>\n",
              "      <th>57</th>\n",
              "      <td>CVE-2018-1000222</td>\n",
              "      <td>Exec Code</td>\n",
              "      <td>2018-08-20</td>\n",
              "      <td>Medium</td>\n",
              "      <td>Libgd version 2.2.5 contains a Double Free Vul...</td>\n",
              "      <td>68</td>\n",
              "      <td>sample_project/api/folder2/file0.c, line46</td>\n",
              "      <td>3</td>\n",
              "    </tr>\n",
              "    <tr>\n",
              "      <th>78</th>\n",
              "      <td>CVE-2018-17407</td>\n",
              "      <td>Exec Code Overflow</td>\n",
              "      <td>2018-09-23</td>\n",
              "      <td>Medium</td>\n",
              "      <td>An issue was discovered in t1_check_unusual_ch...</td>\n",
              "      <td>75</td>\n",
              "      <td>sample_project/src/folder2/file2.cpp, line37</td>\n",
              "      <td>3</td>\n",
              "    </tr>\n",
              "    <tr>\n",
              "      <th>79</th>\n",
              "      <td>CVE-2018-17141</td>\n",
              "      <td>Exec Code</td>\n",
              "      <td>2018-09-21</td>\n",
              "      <td>High</td>\n",
              "      <td>HylaFAX 6.0.6 and HylaFAX+ 5.6.0 allow remote ...</td>\n",
              "      <td>68</td>\n",
              "      <td>sample_project/src/folder1/file3.js, line95</td>\n",
              "      <td>3</td>\n",
              "    </tr>\n",
              "    <tr>\n",
              "      <th>92</th>\n",
              "      <td>CVE-2018-14600</td>\n",
              "      <td>Exec Code</td>\n",
              "      <td>2018-08-24</td>\n",
              "      <td>High</td>\n",
              "      <td>An issue was discovered in libX11 through 1.6....</td>\n",
              "      <td>68</td>\n",
              "      <td>sample_project/api/folder2/file0.c, line46</td>\n",
              "      <td>3</td>\n",
              "    </tr>\n",
              "    <tr>\n",
              "      <th>101</th>\n",
              "      <td>CVE-2018-11529</td>\n",
              "      <td>DoS Exec Code</td>\n",
              "      <td>2018-07-11</td>\n",
              "      <td>Medium</td>\n",
              "      <td>VideoLAN VLC media player 2.2.x is prone to a ...</td>\n",
              "      <td>63</td>\n",
              "      <td>sample_project/api/folder2/file0.c, line46</td>\n",
              "      <td>3</td>\n",
              "    </tr>\n",
              "    <tr>\n",
              "      <th>106</th>\n",
              "      <td>CVE-2017-2924</td>\n",
              "      <td>Exec Code Overflow Mem. Corr.</td>\n",
              "      <td>2018-04-24</td>\n",
              "      <td>Medium</td>\n",
              "      <td>An exploitable heap-based buffer overflow vuln...</td>\n",
              "      <td>76</td>\n",
              "      <td>sample_project/api/folder2/file0.c, line46</td>\n",
              "      <td>3</td>\n",
              "    </tr>\n",
              "    <tr>\n",
              "      <th>107</th>\n",
              "      <td>CVE-2017-2923</td>\n",
              "      <td>Exec Code Overflow Mem. Corr.</td>\n",
              "      <td>2018-04-24</td>\n",
              "      <td>Medium</td>\n",
              "      <td>An exploitable heap based buffer overflow vuln...</td>\n",
              "      <td>76</td>\n",
              "      <td>sample_project/api/folder4/file4.cpp, line13</td>\n",
              "      <td>3</td>\n",
              "    </tr>\n",
              "  </tbody>\n",
              "</table>\n",
              "</div>\n",
              "      <button class=\"colab-df-convert\" onclick=\"convertToInteractive('df-e6d3e547-d396-42e4-8b3f-75c9fb825781')\"\n",
              "              title=\"Convert this dataframe to an interactive table.\"\n",
              "              style=\"display:none;\">\n",
              "        \n",
              "  <svg xmlns=\"http://www.w3.org/2000/svg\" height=\"24px\"viewBox=\"0 0 24 24\"\n",
              "       width=\"24px\">\n",
              "    <path d=\"M0 0h24v24H0V0z\" fill=\"none\"/>\n",
              "    <path d=\"M18.56 5.44l.94 2.06.94-2.06 2.06-.94-2.06-.94-.94-2.06-.94 2.06-2.06.94zm-11 1L8.5 8.5l.94-2.06 2.06-.94-2.06-.94L8.5 2.5l-.94 2.06-2.06.94zm10 10l.94 2.06.94-2.06 2.06-.94-2.06-.94-.94-2.06-.94 2.06-2.06.94z\"/><path d=\"M17.41 7.96l-1.37-1.37c-.4-.4-.92-.59-1.43-.59-.52 0-1.04.2-1.43.59L10.3 9.45l-7.72 7.72c-.78.78-.78 2.05 0 2.83L4 21.41c.39.39.9.59 1.41.59.51 0 1.02-.2 1.41-.59l7.78-7.78 2.81-2.81c.8-.78.8-2.07 0-2.86zM5.41 20L4 18.59l7.72-7.72 1.47 1.35L5.41 20z\"/>\n",
              "  </svg>\n",
              "      </button>\n",
              "      \n",
              "  <style>\n",
              "    .colab-df-container {\n",
              "      display:flex;\n",
              "      flex-wrap:wrap;\n",
              "      gap: 12px;\n",
              "    }\n",
              "\n",
              "    .colab-df-convert {\n",
              "      background-color: #E8F0FE;\n",
              "      border: none;\n",
              "      border-radius: 50%;\n",
              "      cursor: pointer;\n",
              "      display: none;\n",
              "      fill: #1967D2;\n",
              "      height: 32px;\n",
              "      padding: 0 0 0 0;\n",
              "      width: 32px;\n",
              "    }\n",
              "\n",
              "    .colab-df-convert:hover {\n",
              "      background-color: #E2EBFA;\n",
              "      box-shadow: 0px 1px 2px rgba(60, 64, 67, 0.3), 0px 1px 3px 1px rgba(60, 64, 67, 0.15);\n",
              "      fill: #174EA6;\n",
              "    }\n",
              "\n",
              "    [theme=dark] .colab-df-convert {\n",
              "      background-color: #3B4455;\n",
              "      fill: #D2E3FC;\n",
              "    }\n",
              "\n",
              "    [theme=dark] .colab-df-convert:hover {\n",
              "      background-color: #434B5C;\n",
              "      box-shadow: 0px 1px 3px 1px rgba(0, 0, 0, 0.15);\n",
              "      filter: drop-shadow(0px 1px 2px rgba(0, 0, 0, 0.3));\n",
              "      fill: #FFFFFF;\n",
              "    }\n",
              "  </style>\n",
              "\n",
              "      <script>\n",
              "        const buttonEl =\n",
              "          document.querySelector('#df-e6d3e547-d396-42e4-8b3f-75c9fb825781 button.colab-df-convert');\n",
              "        buttonEl.style.display =\n",
              "          google.colab.kernel.accessAllowed ? 'block' : 'none';\n",
              "\n",
              "        async function convertToInteractive(key) {\n",
              "          const element = document.querySelector('#df-e6d3e547-d396-42e4-8b3f-75c9fb825781');\n",
              "          const dataTable =\n",
              "            await google.colab.kernel.invokeFunction('convertToInteractive',\n",
              "                                                     [key], {});\n",
              "          if (!dataTable) return;\n",
              "\n",
              "          const docLinkHtml = 'Like what you see? Visit the ' +\n",
              "            '<a target=\"_blank\" href=https://colab.research.google.com/notebooks/data_table.ipynb>data table notebook</a>'\n",
              "            + ' to learn more about interactive tables.';\n",
              "          element.innerHTML = '';\n",
              "          dataTable['output_type'] = 'display_data';\n",
              "          await google.colab.output.renderOutput(dataTable, element);\n",
              "          const docLink = document.createElement('div');\n",
              "          docLink.innerHTML = docLinkHtml;\n",
              "          element.appendChild(docLink);\n",
              "        }\n",
              "      </script>\n",
              "    </div>\n",
              "  </div>\n",
              "  "
            ]
          },
          "metadata": {},
          "execution_count": 100
        }
      ]
    },
    {
      "cell_type": "code",
      "source": [],
      "metadata": {
        "id": "LjlfFpwEwsHl"
      },
      "execution_count": null,
      "outputs": []
    }
  ]
}